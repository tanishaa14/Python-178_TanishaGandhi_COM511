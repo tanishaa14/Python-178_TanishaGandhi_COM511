{
 "cells": [
  {
   "cell_type": "code",
   "execution_count": 3,
   "id": "470b521c",
   "metadata": {},
   "outputs": [
    {
     "name": "stdout",
     "output_type": "stream",
     "text": [
      "How Many Students you Want To Input?2\n",
      "Enter Roll No:12\n",
      "Enter Name:sam\n",
      "Enter Physics Marks:20\n",
      "Enter Chemistry Marks:30\n",
      "Enter Maths Marks:40\n",
      "Enter Roll Number you Want Search?12\n",
      "12 sam 30.0\n",
      "All students who scored more that 60 percentage are :\n",
      "Record Not Found!\n"
     ]
    }
   ],
   "source": [
    "# Python program to search student record using dictionary\n",
    "# Student class to get student details and print...\n",
    "class Student:\n",
    "    def GetStudent(self):\n",
    "        self.__rollno = input(\"Enter Roll No:\")\n",
    "        self.__name = input(\"Enter Name:\")\n",
    "        self.__physicsMarks = int(input(\"Enter Physics Marks:\"))\n",
    "        self.__chemistyMarks = int(input(\"Enter Chemistry Marks:\"))\n",
    "        self.__mathMarks = int(input(\"Enter Maths Marks:\"))\n",
    "        return(self.__rollno)\n",
    "    def PutStudent(self):\n",
    "        print(self.__rollno,self.__name,((self.__physicsMarks+self.__chemistyMarks+self.__mathMarks)/3))\n",
    "    def Search(self,min,max):\n",
    "        per = (self.__physicsMarks+self.__mathMarks+self.__chemistyMarks)/3\n",
    "        if(per>=min and per<=max):\n",
    "            return True\n",
    "        else:\n",
    "            return False\n",
    "\n",
    "# creating a dictionary to store student record\n",
    "studentDict = dict()\n",
    "n = int(input(\"How Many Students you Want To Input?\"))\n",
    "for i in range(n):\n",
    "    S = Student()\n",
    "rollno = S.GetStudent()\n",
    "studentDict.setdefault(rollno,S)\n",
    "\n",
    "# Searching for student records with roll numbers provided by the user.\n",
    "rollno = input(\"Enter Roll Number you Want Search?\")\n",
    "S = studentDict.get(rollno,\"Not Found!\")\n",
    "if(isinstance(S,Student)):\n",
    "    S.PutStudent()\n",
    "else:\n",
    "    print(S)\n",
    "\n",
    "# Printing records of all users with marks greater than 60%\n",
    "print(\"All students who scored more that 60 percentage are :\")\n",
    "gradeAStudent = list(filter(lambda s:s.Search(60,100),studentDict.values()))\n",
    "if(len(gradeAStudent) == 0):\n",
    "    print(\"Record Not Found!\")\n",
    "else:\n",
    "    for S in gradeAStudent:\n",
    "        S.PutStudent()"
   ]
  },
  {
   "cell_type": "code",
   "execution_count": null,
   "id": "0e320c36",
   "metadata": {},
   "outputs": [],
   "source": []
  },
  {
   "cell_type": "code",
   "execution_count": null,
   "id": "b531768f",
   "metadata": {},
   "outputs": [],
   "source": []
  },
  {
   "cell_type": "code",
   "execution_count": null,
   "id": "0d8613f0",
   "metadata": {},
   "outputs": [],
   "source": []
  }
 ],
 "metadata": {
  "kernelspec": {
   "display_name": "Python 3 (ipykernel)",
   "language": "python",
   "name": "python3"
  },
  "language_info": {
   "codemirror_mode": {
    "name": "ipython",
    "version": 3
   },
   "file_extension": ".py",
   "mimetype": "text/x-python",
   "name": "python",
   "nbconvert_exporter": "python",
   "pygments_lexer": "ipython3",
   "version": "3.9.12"
  }
 },
 "nbformat": 4,
 "nbformat_minor": 5
}
