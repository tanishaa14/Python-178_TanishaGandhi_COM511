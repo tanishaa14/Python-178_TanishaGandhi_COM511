{
 "cells": [
  {
   "cell_type": "code",
   "execution_count": 1,
   "id": "17814c04",
   "metadata": {},
   "outputs": [
    {
     "name": "stdout",
     "output_type": "stream",
     "text": [
      "Enter the no to be found:7\n",
      "Element not found\n"
     ]
    }
   ],
   "source": [
    "# Linear Search in Python\n",
    "\n",
    "def lS(l, n, x):\n",
    "    for i in range(0, n):\n",
    "        if (l[i] == x):\n",
    "            return i\n",
    "    return -1\n",
    "\n",
    "l=[2, 4, 0, 1, 9]\n",
    "x=int(input('Enter the no to be found:'))\n",
    "n=len(l)\n",
    "res=lS(l, n, x)\n",
    "if(res == -1):\n",
    "    print(\"Element not found\")\n",
    "else:\n",
    "    print(\"Element found at index: \", res)"
   ]
  },
  {
   "cell_type": "code",
   "execution_count": 2,
   "id": "36e3a045",
   "metadata": {},
   "outputs": [
    {
     "name": "stdout",
     "output_type": "stream",
     "text": [
      "Enter the no to be found:6\n",
      "Element is present at index 3\n"
     ]
    }
   ],
   "source": [
    "# Binary Search in python\n",
    "\n",
    "def bS(l, x, low, high):\n",
    "    while low <= high:\n",
    "        mid = low + (high - low)//2\n",
    "        if l[mid] == x:\n",
    "            return mid\n",
    "        elif l[mid] < x:\n",
    "            low = mid + 1\n",
    "        else:\n",
    "            high = mid - 1\n",
    "    return -1\n",
    "\n",
    "l= [3, 4, 5, 6, 7, 8, 9]\n",
    "x=int(input('Enter the no to be found:'))\n",
    "res=bS(l, x, 0, len(l)-1)\n",
    "if res!= -1:\n",
    "    print(\"Element is present at index \" + str(res))\n",
    "else:\n",
    "    print(\"Not found\")"
   ]
  },
  {
   "cell_type": "code",
   "execution_count": null,
   "id": "c9b7850d",
   "metadata": {},
   "outputs": [],
   "source": []
  }
 ],
 "metadata": {
  "kernelspec": {
   "display_name": "Python 3 (ipykernel)",
   "language": "python",
   "name": "python3"
  },
  "language_info": {
   "codemirror_mode": {
    "name": "ipython",
    "version": 3
   },
   "file_extension": ".py",
   "mimetype": "text/x-python",
   "name": "python",
   "nbconvert_exporter": "python",
   "pygments_lexer": "ipython3",
   "version": "3.9.12"
  }
 },
 "nbformat": 4,
 "nbformat_minor": 5
}
