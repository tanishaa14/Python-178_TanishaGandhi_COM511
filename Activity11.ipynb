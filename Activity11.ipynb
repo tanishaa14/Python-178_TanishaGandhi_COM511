{
 "cells": [
  {
   "cell_type": "code",
   "execution_count": 4,
   "id": "e8fb2a4e",
   "metadata": {},
   "outputs": [
    {
     "name": "stdout",
     "output_type": "stream",
     "text": [
      "\n",
      " Name Raju \n",
      " Rollno 1234 \n",
      " Marks 12\n",
      "\n",
      " Name Sam \n",
      " Rollno 255 \n",
      " Marks 33\n",
      "\n",
      " Name Anu \n",
      " Rollno 121 \n",
      " Marks 15\n"
     ]
    }
   ],
   "source": [
    "class std:\n",
    "    def __init__(self,name,rollno,marks):\n",
    "        self.name=name\n",
    "        self.rollno=rollno\n",
    "        self.marks=marks\n",
    "\n",
    "\n",
    "listt=[]\n",
    "\n",
    "listt.append(std(\"Raju\",1234,12))\n",
    "listt.append(std(\"Sam\",255,33))\n",
    "listt.append(std(\"Anu\",121,15))\n",
    "\n",
    "for obj in listt:\n",
    "    print(\"\\n\",\"Name\",obj.name,\"\\n\",\"Rollno\",obj.rollno,\"\\n\",\"Marks\",obj.marks)\n",
    "    \n",
    "\n",
    "\n"
   ]
  },
  {
   "cell_type": "code",
   "execution_count": null,
   "id": "921a2439",
   "metadata": {},
   "outputs": [],
   "source": []
  }
 ],
 "metadata": {
  "kernelspec": {
   "display_name": "Python 3 (ipykernel)",
   "language": "python",
   "name": "python3"
  },
  "language_info": {
   "codemirror_mode": {
    "name": "ipython",
    "version": 3
   },
   "file_extension": ".py",
   "mimetype": "text/x-python",
   "name": "python",
   "nbconvert_exporter": "python",
   "pygments_lexer": "ipython3",
   "version": "3.9.12"
  }
 },
 "nbformat": 4,
 "nbformat_minor": 5
}
