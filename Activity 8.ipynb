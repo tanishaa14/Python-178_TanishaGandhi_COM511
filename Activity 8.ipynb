{
 "cells": [
  {
   "cell_type": "code",
   "execution_count": 2,
   "id": "ddc0b7a4",
   "metadata": {},
   "outputs": [
    {
     "name": "stdout",
     "output_type": "stream",
     "text": [
      "21\n"
     ]
    }
   ],
   "source": [
    "# Function to get sum of digits\n",
    " \n",
    " \n",
    "def getSum(n):\n",
    " \n",
    "    sum = 0\n",
    "    while (n != 0):\n",
    " \n",
    "        sum = sum + int(n % 10)\n",
    "        n = int(n/10)\n",
    " \n",
    "    return sum\n",
    " \n",
    " \n",
    "# Driver code\n",
    "if __name__ == \"__main__\":\n",
    "    n = 687\n",
    " \n",
    "    # Function call\n",
    "    print(getSum(n))"
   ]
  },
  {
   "cell_type": "code",
   "execution_count": 5,
   "id": "193b54f4",
   "metadata": {},
   "outputs": [
    {
     "name": "stdout",
     "output_type": "stream",
     "text": [
      "Enter number: 153\n",
      "The number is an Armstrong number.\n"
     ]
    }
   ],
   "source": [
    "# Python program to check armstrong number using functions\n",
    "\n",
    "def digits_count(n):\n",
    "   i = 0\n",
    "   while n > 0:\n",
    "      n //= 10\n",
    "      i += 1\n",
    "   return i\n",
    "\n",
    "def sum(n):\n",
    "   i = digits_count(n)\n",
    "   s = 0\n",
    "   while n > 0:\n",
    "      digit = n%10\n",
    "      n //= 10\n",
    "      s += pow(digit,i)\n",
    "   return s\n",
    "\n",
    "# take inputs\n",
    "num = int(input(\"Enter number: \"))\n",
    "\n",
    "# calling function\n",
    "s = sum(num)\n",
    "\n",
    "# check armstrong number or not\n",
    "if s == num:\n",
    "   print(\"The number is an Armstrong number.\")\n",
    "else:\n",
    "   print(\"The number is not an Armstrong number.\")"
   ]
  },
  {
   "cell_type": "code",
   "execution_count": null,
   "id": "611956d1",
   "metadata": {},
   "outputs": [],
   "source": []
  }
 ],
 "metadata": {
  "kernelspec": {
   "display_name": "Python 3 (ipykernel)",
   "language": "python",
   "name": "python3"
  },
  "language_info": {
   "codemirror_mode": {
    "name": "ipython",
    "version": 3
   },
   "file_extension": ".py",
   "mimetype": "text/x-python",
   "name": "python",
   "nbconvert_exporter": "python",
   "pygments_lexer": "ipython3",
   "version": "3.9.12"
  }
 },
 "nbformat": 4,
 "nbformat_minor": 5
}
