{
 "cells": [
  {
   "cell_type": "code",
   "execution_count": 1,
   "id": "4e338b6a",
   "metadata": {},
   "outputs": [
    {
     "name": "stdout",
     "output_type": "stream",
     "text": [
      "int: 20\n",
      "float: 30.0\n"
     ]
    }
   ],
   "source": [
    "#1. Abs():The abs() function returns the absolute value of the given number. \n",
    "#If the number is a complex number, abs() returns its magnitude.\n",
    "\n",
    "num=-20\n",
    "print(\"int:\",abs(num))\n",
    "\n",
    "num1=-30.00\n",
    "print(\"float:\",abs(num1))"
   ]
  },
  {
   "cell_type": "code",
   "execution_count": 2,
   "id": "cc9aea6c",
   "metadata": {},
   "outputs": [
    {
     "name": "stdout",
     "output_type": "stream",
     "text": [
      "List:  ['apple', 'sony', 'realme', 'oneplus']\n",
      "List length: 4\n",
      "***********************************\n",
      "Tupple:  ('apple', 'sony', 'realme', 'oneplus', 'Matrola')\n",
      "Tupple length: 5\n"
     ]
    }
   ],
   "source": [
    "#2. Len():The len() function returns the number of items (length) in an object.\n",
    "\n",
    "list=[\"apple\", \"sony\", \"realme\", \"oneplus\"]\n",
    "print(\"List: \",list)\n",
    "print(\"List length:\",len(list))\n",
    "\n",
    "print(\"***********************************\")\n",
    "\n",
    "tupple=(\"apple\", \"sony\", \"realme\", \"oneplus\", \"Matrola\")\n",
    "print(\"Tupple: \",(tupple))\n",
    "print(\"Tupple length:\",len(tupple))"
   ]
  },
  {
   "cell_type": "code",
   "execution_count": 3,
   "id": "08c22678",
   "metadata": {},
   "outputs": [
    {
     "name": "stdout",
     "output_type": "stream",
     "text": [
      "Minimum number in the list: -3\n"
     ]
    }
   ],
   "source": [
    "#3. Min():The min() function returns the smallest item in an iterable. \n",
    "#It can also be used to find the smallest item between two or more parameters.\n",
    "\n",
    "list=[11,-3,5,7,3,2,7]\n",
    "print(\"Minimum number in the list:\",min(list))"
   ]
  },
  {
   "cell_type": "code",
   "execution_count": 4,
   "id": "c6341a7c",
   "metadata": {},
   "outputs": [
    {
     "name": "stdout",
     "output_type": "stream",
     "text": [
      "24\n",
      "27\n",
      "94\n",
      "14\n"
     ]
    }
   ],
   "source": [
    "#4. Round():Python round() function float point number from the decimal value to\n",
    "#the closest multiple of 10. The int value to the closest multiple of 10 to the \n",
    "#power minus ndigits, where ndigits is the precision after the decimal point. \n",
    "#If two multiples are equally close, rounding is done toward the even choice.\n",
    "\n",
    "print(round(23.5))\n",
    "print(round(26.7))\n",
    "print(round(93.5))\n",
    "print(round(13.9))"
   ]
  },
  {
   "cell_type": "code",
   "execution_count": 5,
   "id": "efb7024e",
   "metadata": {},
   "outputs": [
    {
     "name": "stdout",
     "output_type": "stream",
     "text": [
      "True\n",
      "False\n"
     ]
    }
   ],
   "source": [
    "#Isalnum():The isalnum() method returns True if all characters in the string are\n",
    "#alphanumeric (either alphabets or numbers). If not, it returns False.\n",
    "\n",
    "s=\"Error101\" #True\n",
    "print(s.isalnum())\n",
    "s1=\"Blue eyes 143\"  #False #this string contain space\n",
    "print(s1.isalnum())"
   ]
  },
  {
   "cell_type": "code",
   "execution_count": 6,
   "id": "a53c8635",
   "metadata": {},
   "outputs": [
    {
     "name": "stdout",
     "output_type": "stream",
     "text": [
      "<class 'int'>\n",
      "<class 'int'>\n",
      "<class 'str'>\n",
      "<class 'list'>\n",
      "<class 'tuple'>\n"
     ]
    }
   ],
   "source": [
    "#type():The type() function is used to get the type of an object. When a single \n",
    "#argument is passed to the type() function, it returns the type of the object. \n",
    "#Its value is the same as the object.\n",
    "\n",
    "n1=-30\n",
    "n2=30.04\n",
    "a='hello'\n",
    "l=[1,2,4]\n",
    "t=(\"apple\", \"sony\", \"realme\", \"oneplus\", \"Matrola\")\n",
    "print(type(n1))\n",
    "print(type(2))\n",
    "print(type(s))\n",
    "print(type(l))\n",
    "print(type(t))"
   ]
  },
  {
   "cell_type": "code",
   "execution_count": null,
   "id": "884a62c4",
   "metadata": {},
   "outputs": [],
   "source": []
  }
 ],
 "metadata": {
  "kernelspec": {
   "display_name": "Python 3 (ipykernel)",
   "language": "python",
   "name": "python3"
  },
  "language_info": {
   "codemirror_mode": {
    "name": "ipython",
    "version": 3
   },
   "file_extension": ".py",
   "mimetype": "text/x-python",
   "name": "python",
   "nbconvert_exporter": "python",
   "pygments_lexer": "ipython3",
   "version": "3.9.12"
  }
 },
 "nbformat": 4,
 "nbformat_minor": 5
}
