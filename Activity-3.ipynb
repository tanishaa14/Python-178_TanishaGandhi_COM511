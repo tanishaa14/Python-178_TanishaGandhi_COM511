{
 "cells": [
  {
   "cell_type": "code",
   "execution_count": 1,
   "id": "eaaefd61",
   "metadata": {},
   "outputs": [
    {
     "name": "stdout",
     "output_type": "stream",
     "text": [
      "False\n",
      "string length: 23\n"
     ]
    }
   ],
   "source": [
    "#A. Count the number of alphabets in the given string.\n",
    "#Method #1 : Using isalpha() + len()\n",
    "\n",
    "test=\"Welcome to python World\"\n",
    "\n",
    "print(test.isalpha())\n",
    "print(\"string length:\",len(test))"
   ]
  },
  {
   "cell_type": "code",
   "execution_count": 2,
   "id": "3880db27",
   "metadata": {},
   "outputs": [
    {
     "name": "stdout",
     "output_type": "stream",
     "text": [
      "come to py\n"
     ]
    }
   ],
   "source": [
    "#B. To extract characters in the given, range from the given string.\n",
    "\n",
    "print(\"\".join(test)[3:13])"
   ]
  },
  {
   "cell_type": "code",
   "execution_count": 3,
   "id": "ec313c65",
   "metadata": {},
   "outputs": [
    {
     "name": "stdout",
     "output_type": "stream",
     "text": [
      "Password is alphanumeric.\n"
     ]
    }
   ],
   "source": [
    "#C. Check if the string is alphanumeric or not.\n",
    "#Example 2: isalnum() in if...else Statement\n",
    "\n",
    "password=\"ano123awer\"\n",
    "\n",
    "if password.isalnum():\n",
    "    print(\"Password is alphanumeric.\")\n",
    "else:\n",
    "    print(\"Password is not alphanumeric.\")"
   ]
  },
  {
   "cell_type": "code",
   "execution_count": null,
   "id": "940b2455",
   "metadata": {},
   "outputs": [],
   "source": []
  }
 ],
 "metadata": {
  "kernelspec": {
   "display_name": "Python 3 (ipykernel)",
   "language": "python",
   "name": "python3"
  },
  "language_info": {
   "codemirror_mode": {
    "name": "ipython",
    "version": 3
   },
   "file_extension": ".py",
   "mimetype": "text/x-python",
   "name": "python",
   "nbconvert_exporter": "python",
   "pygments_lexer": "ipython3",
   "version": "3.9.12"
  }
 },
 "nbformat": 4,
 "nbformat_minor": 5
}
