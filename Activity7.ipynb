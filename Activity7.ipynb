{
 "cells": [
  {
   "cell_type": "code",
   "execution_count": 1,
   "id": "31ccbb37",
   "metadata": {},
   "outputs": [
    {
     "name": "stdout",
     "output_type": "stream",
     "text": [
      "40.00 Celsius is equivalent to: 104.00 Fahrenheit\n"
     ]
    }
   ],
   "source": [
    "# Temperature in celsius degree\n",
    "celsius = 40\n",
    "# Converting the temperature to\n",
    "# fehrenheit using the above\n",
    "# mentioned formula\n",
    "fahrenheit = (celsius * 1.8) + 32\n",
    "# printing the result\n",
    "print('%.2f Celsius is equivalent to: %.2f Fahrenheit' %(celsius,fahrenheit))"
   ]
  },
  {
   "cell_type": "code",
   "execution_count": 2,
   "id": "97432dd3",
   "metadata": {},
   "outputs": [
    {
     "name": "stdout",
     "output_type": "stream",
     "text": [
      "Enter the temperature in Celsius: 5\n",
      "Temperature in Celsius = 5.00\n",
      "Temperature in Fahrenheit = 41.00\n"
     ]
    }
   ],
   "source": [
    "# Define function to convert Celsius into Fahrenheit\n",
    "def ConvertCtoF(C):\n",
    "# Convert the Celsius into Fahrenheit\n",
    "    F = (C* 1.8) + 32\n",
    "\n",
    "# Return the conversion value\n",
    "    return F\n",
    "\n",
    "# Take the Fahrenheit value from the user\n",
    "C= float(input(\"Enter the temperature in Celsius: \"))\n",
    "\n",
    "# Print the Celsius value\n",
    "print(\"Temperature in Celsius = {:.2f}\".format(C))\n",
    "# Print the Fahrenheit value\n",
    "print(\"Temperature in Fahrenheit = {:.2f}\".format(ConvertCtoF(C)))"
   ]
  },
  {
   "cell_type": "code",
   "execution_count": 3,
   "id": "4edb9870",
   "metadata": {},
   "outputs": [
    {
     "name": "stdout",
     "output_type": "stream",
     "text": [
      "Enter the temperature in Fahrenheit: 4\n",
      "Temperature in Fahrenheit = 4.00\n",
      "Temperature in Celsius = -15.56\n"
     ]
    }
   ],
   "source": [
    "# Define function to convert Fahrenheit to Celsius\n",
    "def ConvertFtoC(F):\n",
    "# Convert the Fahrenheit into Celsius\n",
    "      C = (5 / 9) * (F - 32)\n",
    "# Return the conversion value\n",
    "      return C\n",
    "\n",
    "# Take the Fahrenheit value from the user\n",
    "F = float(input(\"Enter the temperature in Fahrenheit: \"))\n",
    "\n",
    "# Print the Fahrenheit value\n",
    "print(\"Temperature in Fahrenheit = {:.2f}\".format(F))\n",
    "# Print the Celsius value\n",
    "print(\"Temperature in Celsius = {:.2f}\".format(ConvertFtoC(F)))"
   ]
  },
  {
   "cell_type": "code",
   "execution_count": null,
   "id": "5b9ba9e2",
   "metadata": {},
   "outputs": [],
   "source": []
  }
 ],
 "metadata": {
  "kernelspec": {
   "display_name": "Python 3 (ipykernel)",
   "language": "python",
   "name": "python3"
  },
  "language_info": {
   "codemirror_mode": {
    "name": "ipython",
    "version": 3
   },
   "file_extension": ".py",
   "mimetype": "text/x-python",
   "name": "python",
   "nbconvert_exporter": "python",
   "pygments_lexer": "ipython3",
   "version": "3.9.12"
  }
 },
 "nbformat": 4,
 "nbformat_minor": 5
}
