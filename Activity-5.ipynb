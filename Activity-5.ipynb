{
  "cells": [
    {
      "cell_type": "markdown",
      "metadata": {
        "colab_type": "text",
        "id": "view-in-github"
      },
      "source": [
        "<a href=\"https://colab.research.google.com/github/Aniketbandral/002_Anikait_COM_511/blob/main/Python_5.ipynb\" target=\"_parent\"><img src=\"https://colab.research.google.com/assets/colab-badge.svg\" alt=\"Open In Colab\"/></a>"
      ]
    },
    {
      "cell_type": "markdown",
      "metadata": {
        "id": "hdvOOh5iiyxq"
      },
      "source": [
        "Given a Matrix, the task is to write python program to reverse every Kth row. Where, K is\n",
        "some span value. **bold text**"
      ]
    },
    {
      "cell_type": "code",
      "execution_count": 66,
      "metadata": {
        "colab": {
          "base_uri": "https://localhost:8080/"
        },
        "id": "zrcyQKODisHj",
        "outputId": "77d1c86b-2327-4f26-812f-14387de01845"
      },
      "outputs": [
        {
          "name": "stdout",
          "output_type": "stream",
          "text": [
            "Original list is [[5, 6, 2], [25, 4, 13], [4, 6, 3], [7, 40, 4], [9, 7, 8], [5, 3, 1]]\n",
            "Enter the index no:2\n",
            "After reversing: [[2, 6, 5], [25, 4, 13], [3, 6, 4], [7, 40, 4], [8, 7, 9], [5, 3, 1]]\n"
          ]
        }
      ],
      "source": [
        "lst=[[5,6,2],[25,4,13],[4,6,3],[7,40,4],[9,7,8],[5,3,1]]\n",
        "\n",
        "print('Original list is',lst)\n",
        "k=int(input('Enter the index no:'))\n",
        "new_lst=[]\n",
        "for i,ele in enumerate(lst):\n",
        "    if i%k==0:\n",
        "        new_lst.append(list(reversed(ele)))  \n",
        "    else:\n",
        "        new_lst.append(ele)\n",
        "\n",
        "print(\"After reversing:\",new_lst)"
      ]
    },
    {
      "cell_type": "code",
      "execution_count": null,
      "metadata": {
        "id": "ubhCj-3wis4R"
      },
      "outputs": [],
      "source": []
    },
    {
      "cell_type": "code",
      "execution_count": null,
      "metadata": {
        "id": "OeQIOEjci00y"
      },
      "outputs": [],
      "source": []
    }
  ],
  "metadata": {
    "colab": {
      "authorship_tag": "ABX9TyMuq96A74Sb4iYq8FpM/4jY",
      "include_colab_link": true,
      "provenance": []
    },
    "kernelspec": {
      "display_name": "Python 3",
      "name": "python3"
    },
    "language_info": {
      "name": "python"
    }
  },
  "nbformat": 4,
  "nbformat_minor": 0
}
