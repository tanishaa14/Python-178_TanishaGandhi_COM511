{
 "cells": [
  {
   "cell_type": "code",
   "execution_count": null,
   "id": "c8c9270f",
   "metadata": {},
   "outputs": [],
   "source": [
    "#List"
   ]
  },
  {
   "cell_type": "code",
   "execution_count": 1,
   "id": "e9081290",
   "metadata": {},
   "outputs": [
    {
     "name": "stdout",
     "output_type": "stream",
     "text": [
      "obj 1 : 1\n",
      "obj 2 : 4\n",
      "obj 3 : 5\n",
      "obj 4 : apple\n",
      "obj 5 : 6\n",
      "obj 6 : Blue\n"
     ]
    }
   ],
   "source": [
    "#Method #1: Using For loop\n",
    "\n",
    "random=[1,4,5,\"apple\",6,\"Blue\"]\n",
    "count=len(random)\n",
    "\n",
    "for i in range(count):\n",
    "    print(\"obj\",i+1,\":\",random[i])"
   ]
  },
  {
   "cell_type": "code",
   "execution_count": 2,
   "id": "eff0f3c6",
   "metadata": {},
   "outputs": [
    {
     "name": "stdout",
     "output_type": "stream",
     "text": [
      "1\n",
      "2\n",
      "5\n",
      "6\n",
      "7\n",
      "9\n",
      "7\n"
     ]
    }
   ],
   "source": [
    "#Method #2: For loop and range()\n",
    "\n",
    "item=[1,2,5,6,7,9,7]\n",
    "count=len(item)\n",
    "\n",
    "for i in range(count):\n",
    "    print(item[i])"
   ]
  },
  {
   "cell_type": "code",
   "execution_count": 3,
   "id": "7bb4c254",
   "metadata": {},
   "outputs": [
    {
     "name": "stdout",
     "output_type": "stream",
     "text": [
      "1\n",
      "2\n",
      "5\n",
      "6\n",
      "7\n",
      "9\n"
     ]
    }
   ],
   "source": [
    "#Method #3: Using while loop\n",
    "\n",
    "l=[1,2,5,6,7,9]\n",
    "length=len(l)\n",
    "i=0\n",
    "while i<length:\n",
    "    print(l[i])\n",
    "    i+=1"
   ]
  },
  {
   "cell_type": "code",
   "execution_count": 4,
   "id": "56cf971d",
   "metadata": {},
   "outputs": [
    {
     "name": "stdout",
     "output_type": "stream",
     "text": [
      "1\n",
      "2\n",
      "5\n",
      "6\n",
      "7\n",
      "9\n",
      "1\n"
     ]
    },
    {
     "data": {
      "text/plain": [
       "[None, None, None, None, None, None, None]"
      ]
     },
     "execution_count": 4,
     "metadata": {},
     "output_type": "execute_result"
    }
   ],
   "source": [
    "#Method #4: Using list comprehension (Possibly the most concrete way)\n",
    "l=[1,2,5,6,7,9,1]\n",
    "[print(i) for i in l]"
   ]
  },
  {
   "cell_type": "code",
   "execution_count": null,
   "id": "abe32414",
   "metadata": {},
   "outputs": [],
   "source": [
    "#Dictionary"
   ]
  },
  {
   "cell_type": "code",
   "execution_count": 5,
   "id": "566bee34",
   "metadata": {},
   "outputs": [
    {
     "name": "stdout",
     "output_type": "stream",
     "text": [
      "dict_keys(['Gujarat', 'Maharashtra', 'Rajasthan', 'Bihar'])\n"
     ]
    }
   ],
   "source": [
    "#Example 1: Access key using the build .keys()\n",
    "\n",
    "place={\"Gujarat\":\"Gandhinagar\",\"Maharashtra\":\"Mumbai\",\"Rajasthan\":\"Jaipur\",\"Bihar\":\"Patna\" }\n",
    "print(place.keys())"
   ]
  },
  {
   "cell_type": "code",
   "execution_count": 6,
   "id": "04cd51de",
   "metadata": {},
   "outputs": [
    {
     "name": "stdout",
     "output_type": "stream",
     "text": [
      "Gujarat\n",
      "Maharashtra\n",
      "Rajasthan\n",
      "Bihar\n"
     ]
    }
   ],
   "source": [
    "#Example 2: Access key without using a key()\n",
    "\n",
    "p={\"Gujarat\":\"Gandhinagar\",\"Maharashtra\":\"Mumbai\",\"Rajasthan\":\"Jaipur\",\"Bihar\":\"Patna\" }\n",
    "for state in p:\n",
    "    print(state)"
   ]
  },
  {
   "cell_type": "code",
   "execution_count": 7,
   "id": "e5d9393c",
   "metadata": {},
   "outputs": [
    {
     "name": "stdout",
     "output_type": "stream",
     "text": [
      "dict_values(['Gandhinagar', 'Mumbai', 'Jaipur', 'Patna'])\n"
     ]
    }
   ],
   "source": [
    "#Example 3: Iterate through all values using .values()\n",
    "\n",
    "p={\"Gujarat\":\"Gandhinagar\",\"Maharashtra\":\"Mumbai\",\"Rajasthan\":\"Jaipur\",\"Bihar\":\"Patna\" }\n",
    "print(p.values())"
   ]
  },
  {
   "cell_type": "code",
   "execution_count": 8,
   "id": "bd2d2748",
   "metadata": {},
   "outputs": [
    {
     "name": "stdout",
     "output_type": "stream",
     "text": [
      "Gujarat : Gandhinagar\n",
      "Maharashtra : Mumbai\n",
      "Rajasthan : Jaipur\n",
      "Bihar : Patna\n"
     ]
    }
   ],
   "source": [
    "#Example 4: Iterate through all key, and value pairs using items()\n",
    "\n",
    "pl={\"Gujarat\":\"Gandhinagar\",\"Maharashtra\":\"Mumbai\",\"Rajasthan\":\"Jaipur\",\"Bihar\":\"Patna\" }\n",
    "for i in pl:\n",
    "    print(i,\":\",pl[i])"
   ]
  },
  {
   "cell_type": "code",
   "execution_count": 9,
   "id": "4d6b56f7",
   "metadata": {},
   "outputs": [
    {
     "name": "stdout",
     "output_type": "stream",
     "text": [
      "Gujarat -> Gandhinagar\n",
      "Maharashtra -> Mumbai\n",
      "Rajasthan -> Jaipur\n",
      "Bihar -> Patna\n"
     ]
    }
   ],
   "source": [
    "#Example 5: Access both key and value without using items()\n",
    "\n",
    "p={\"Gujarat\":\"Gandhinagar\",\"Maharashtra\":\"Mumbai\",\"Rajasthan\":\"Jaipur\",\"Bihar\":\"Patna\" }\n",
    "for i in p:\n",
    "    print( i, \"->\",p[i])"
   ]
  },
  {
   "cell_type": "code",
   "execution_count": 11,
   "id": "7556c058",
   "metadata": {},
   "outputs": [
    {
     "name": "stdout",
     "output_type": "stream",
     "text": [
      "dict_items([('Gujarat', 'Gandhinagar'), ('Maharashtra', 'Mumbai'), ('Rajasthan', 'Jaipur'), ('Bihar', 'Patna')])\n"
     ]
    }
   ],
   "source": [
    "#Example 6: Print items in Key-Value in pair\n",
    "\n",
    "p={\"Gujarat\":\"Gandhinagar\",\"Maharashtra\":\"Mumbai\",\"Rajasthan\":\"Jaipur\",\"Bihar\":\"Patna\" }\n",
    "print(p.items())"
   ]
  },
  {
   "cell_type": "code",
   "execution_count": null,
   "id": "6e267b05",
   "metadata": {},
   "outputs": [],
   "source": []
  }
 ],
 "metadata": {
  "kernelspec": {
   "display_name": "Python 3 (ipykernel)",
   "language": "python",
   "name": "python3"
  },
  "language_info": {
   "codemirror_mode": {
    "name": "ipython",
    "version": 3
   },
   "file_extension": ".py",
   "mimetype": "text/x-python",
   "name": "python",
   "nbconvert_exporter": "python",
   "pygments_lexer": "ipython3",
   "version": "3.9.12"
  }
 },
 "nbformat": 4,
 "nbformat_minor": 5
}
