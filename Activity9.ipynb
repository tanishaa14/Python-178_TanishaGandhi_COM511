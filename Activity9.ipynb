{
 "cells": [
  {
   "cell_type": "code",
   "execution_count": 1,
   "id": "f9083c2c",
   "metadata": {},
   "outputs": [
    {
     "name": "stdout",
     "output_type": "stream",
     "text": [
      "Getting available information of student in database:\n",
      "\n",
      "name:Ravi Kumar\n",
      "rollno:1\n",
      "email:ravi@gmail.com\n",
      "gender:male\n",
      "d.o.b:8/17/07\n",
      "address:jammu\n",
      "semester:5th\n",
      "section:A2\n",
      "phono:1234567890\n",
      "\n",
      "name:Rakesh Dev\n",
      "rollno:2\n",
      "email:rakesh@gmail.com\n",
      "gender:male\n",
      "d.o.b:8/24/07\n",
      "address:jammu\n",
      "semester:2nd\n",
      "section:A1\n",
      "phono:9732145321\n",
      "\n",
      "name:Salman\n",
      "rollno:3\n",
      "email:salman@gmail.com\n",
      "gender:male\n",
      "d.o.b:4/17/07\n",
      "address:delhi\n",
      "semester:3rd\n",
      "section:A1\n",
      "phono:9563456728\n",
      "\n",
      "name:Ajay\n",
      "rollno:4\n",
      "email:ajay@gmail.com\n",
      "gender:male\n",
      "d.o.b:4/5/07\n",
      "address:delhi\n",
      "semester:6th\n",
      "section:A1\n",
      "phono:9287654320\n",
      "\n"
     ]
    }
   ],
   "source": [
    "#Student data in database created using list and tuples\n",
    "database=[('Ravi Kumar', 1, 'ravi@gmail.com', 'male', '8/17/07', 'jammu', '5th', 'A2', 1234567890), ('Rakesh Dev', 2, 'rakesh@gmail.com', 'male', '8/24/07', 'jammu', '2nd', 'A1', 9732145321), ('Salman', 3, 'salman@gmail.com', 'male', '4/17/07', 'delhi', '3rd', 'A1', 9563456728), ('Ajay', 4, 'ajay@gmail.com', 'male', '4/5/07', 'delhi', '6th', 'A1', 9287654320)]\n",
    "\n",
    "def querying():\n",
    "    print(\"Getting available information of student in database:\\n\")\n",
    "    for idx,element in enumerate(database):\n",
    "        print(f\"name:{database[idx][0]}\")\n",
    "        print(f\"rollno:{database[idx][1]}\")\n",
    "        print(f\"email:{database[idx][2]}\")\n",
    "        print(f\"gender:{database[idx][3]}\")\n",
    "        print(f\"d.o.b:{database[idx][4]}\")\n",
    "        print(f\"address:{database[idx][5]}\")\n",
    "        print(f\"semester:{database[idx][6]}\")\n",
    "        print(f\"section:{database[idx][7]}\")\n",
    "        print(f\"phono:{database[idx][8]}\\n\")\n",
    "\n",
    "querying()"
   ]
  },
  {
   "cell_type": "code",
   "execution_count": null,
   "id": "65973ff7",
   "metadata": {},
   "outputs": [],
   "source": []
  }
 ],
 "metadata": {
  "kernelspec": {
   "display_name": "Python 3 (ipykernel)",
   "language": "python",
   "name": "python3"
  },
  "language_info": {
   "codemirror_mode": {
    "name": "ipython",
    "version": 3
   },
   "file_extension": ".py",
   "mimetype": "text/x-python",
   "name": "python",
   "nbconvert_exporter": "python",
   "pygments_lexer": "ipython3",
   "version": "3.9.12"
  }
 },
 "nbformat": 4,
 "nbformat_minor": 5
}
